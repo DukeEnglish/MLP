{
 "cells": [
  {
   "cell_type": "code",
   "execution_count": 1,
   "metadata": {
    "collapsed": true
   },
   "outputs": [],
   "source": [
    "import os\n",
    "import datetime\n",
    "import numpy as np\n",
    "import tensorflow as tf\n",
    "from mlp.data_providers import CIFAR10DataProvider, CIFAR100DataProvider\n",
    "import matplotlib.pyplot as plt\n",
    "import time\n"
   ]
  },
  {
   "cell_type": "code",
   "execution_count": 2,
   "metadata": {
    "collapsed": false
   },
   "outputs": [],
   "source": [
    "def fully_connected_layer(inputs, input_dim, output_dim, nonlinearity=tf.nn.relu, dropout = True, keep_prob=1.0):\n",
    "    with tf.device('/cpu:0'):\n",
    "        weights = tf.Variable(\n",
    "            tf.truncated_normal(\n",
    "                [input_dim, output_dim], stddev=2. / (input_dim + output_dim)**0.5), \n",
    "            'weights')\n",
    "        biases = tf.Variable(tf.zeros([output_dim]), 'biases')\n",
    "    outputs = tf.nn.dropout(nonlinearity(tf.matmul(inputs, weights) + biases), keep_prob)\n",
    "    return outputs\n",
    "\n",
    "def fully_bn_connected_layer(inputs, input_dim, output_dim, nonlinearity=tf.nn.relu, dropout = True, keep_prob=1.0, train=True):\n",
    "    with tf.device('/cpu:0'):\n",
    "        weights = tf.Variable(\n",
    "            tf.truncated_normal(\n",
    "                [input_dim, output_dim], stddev=2. / (input_dim + output_dim)**0.5), \n",
    "            'weights')\n",
    "        z_BN = tf.matmul(inputs,weights)\n",
    "        BN = tf.contrib.layers.batch_norm(z_BN, center=True, scale=True,\n",
    "                                                 is_training=train)\n",
    "    outputs = tf.nn.dropout(nonlinearity(BN), keep_prob)\n",
    "    return outputs\n",
    "\n",
    "def _variable_with_weight_decay(name, shape, stddev, wd):\n",
    "    var = tf.get_variable(name, shape, initializer=tf.truncated_normal_initializer(stddev=stddev, dtype=tf.float32),dtype=tf.float32)\n",
    "    if wd is not None:\n",
    "        weight_decay = tf.multiply(tf.nn.l2_loss(var), wd, name='weight_loss')\n",
    "        tf.add_to_collection('losses', weight_decay)\n",
    "    return var"
   ]
  },
  {
   "cell_type": "code",
   "execution_count": 3,
   "metadata": {
    "collapsed": true
   },
   "outputs": [],
   "source": [
    "def conv_bn_layer1(inputs, nonlinearity=tf.nn.relu, dropout = True, keep_prob=1.0,train=True):\n",
    "    kernel1 = _variable_with_weight_decay('conv_weights_1', shape=[3, 3, 3, 64], stddev=5e-2, wd=0.0)\n",
    "    conv = tf.nn.conv2d(reshape, kernel1, [1, 1, 1, 1], padding='SAME')\n",
    "    biases1 = tf.get_variable('biases2', [64], initializer=tf.constant_initializer(0.0), dtype=tf.float32)\n",
    "    pre_activation1 = tf.nn.bias_add(conv, biases1)\n",
    "    conv1 = tf.nn.relu(pre_activation1, name=scope.name)\n",
    "    outputs = tf.nn.dropout(conv1, keep_prob)\n",
    "    return outputs\n",
    "\n",
    "def conv_bn_layer2(inputs, nonlinearity=tf.nn.relu, dropout = True, keep_prob=1.0,train=True):\n",
    "    kernel2 = _variable_with_weight_decay('conv_weights_2', shape=[3, 3, 64, 64], stddev=5e-2, wd=0.0)\n",
    "    conv_2 = tf.nn.conv2d(inputs, kernel2, [1, 1, 1, 1], padding='SAME')\n",
    "    biases2 = tf.get_variable('biases2', [64], initializer=tf.constant_initializer(0.1), dtype=tf.float32)\n",
    "    pre_activation2 = tf.nn.bias_add(conv_2, biases2)\n",
    "    conv2 = tf.nn.relu(pre_activation2, name=scope.name)\n",
    "    outputs = tf.nn.dropout(conv2, keep_prob)\n",
    "    return outputs"
   ]
  },
  {
   "cell_type": "code",
   "execution_count": 4,
   "metadata": {
    "collapsed": true
   },
   "outputs": [],
   "source": [
    "random_seed = 1627522\n",
    "rng = np.random.RandomState(random_seed)\n",
    "\n",
    "train_data = CIFAR10DataProvider('train', batch_size=50, rng=rng)\n",
    "valid_data = CIFAR10DataProvider('valid', batch_size=50, rng=rng)\n"
   ]
  },
  {
   "cell_type": "code",
   "execution_count": 5,
   "metadata": {
    "collapsed": false
   },
   "outputs": [],
   "source": [
    "inputs = tf.placeholder(tf.float32, [None, train_data.inputs.shape[1]], 'inputs')\n",
    "targets = tf.placeholder(tf.float32, [None, train_data.num_classes], 'targets')\n",
    "keep_prob=tf.placeholder(tf.float32)\n",
    "train=tf.placeholder(bool)\n",
    "\n",
    "with tf.variable_scope('conv1') as scope:\n",
    "    reshape=tf.reshape(inputs,[50,3,32,32])\n",
    "    reshape=tf.transpose(reshape,[0,2,3,1])\n",
    "    conv1 = conv_bn_layer1(reshape,keep_prob=1.0)\n",
    "\n",
    "# pool1\n",
    "pool1 = tf.nn.max_pool(conv1, ksize=[1, 3, 3, 1], strides=[1, 2, 2, 1],\n",
    "                         padding='SAME', name='pool1')\n",
    "# norm1\n",
    "norm1 = tf.nn.lrn(pool1, 4, bias=1.0, alpha=0.001 / 9.0, beta=0.75,\n",
    "                    name='norm1')\n",
    "\n",
    "# conv2\n",
    "with tf.variable_scope('conv2') as scope:\n",
    "    conv2 = conv_bn_layer2(norm1,keep_prob=1.0)\n",
    "    #_activation_summary(conv2)\n",
    "\n",
    "norm2 = tf.nn.lrn(conv2, 4, bias=1.0, alpha=0.001 / 9.0, beta=0.75,\n",
    "                    name='norm2')\n",
    "# pool2\n",
    "pool2 = tf.nn.max_pool(norm2, ksize=[1, 3, 3, 1],\n",
    "                         strides=[1, 2, 2, 1], padding='SAME', name='pool2')\n",
    "\n",
    "# local3\n",
    "with tf.variable_scope('local3') as scope:\n",
    "    # Move everything into depth so we can perform a single matrix multiply.\n",
    "    reshape = tf.reshape(pool2, [50,-1])\n",
    "    hidden_1 = fully_bn_connected_layer(reshape, 4096, 1000, keep_prob=1.0)\n",
    "\n",
    "\n",
    "# local4\n",
    "with tf.variable_scope('local4') as scope:\n",
    "    outputs = fully_connected_layer(hidden_1, 1000, train_data.num_classes, tf.identity, keep_prob=1.0)\n",
    "    \n",
    "with tf.name_scope('error'):\n",
    "    error = tf.reduce_mean(\n",
    "        tf.nn.softmax_cross_entropy_with_logits(outputs, targets))\n",
    "with tf.name_scope('accuracy'):\n",
    "    accuracy = tf.reduce_mean(tf.cast(\n",
    "            tf.equal(tf.argmax(outputs, 1), tf.argmax(targets, 1)), \n",
    "            tf.float32))\n",
    "\n",
    "with tf.name_scope('train'):\n",
    "    train_step = tf.train.MomentumOptimizer(learning_rate=0.001,momentum=0.9).minimize(error)\n",
    "    "
   ]
  },
  {
   "cell_type": "code",
   "execution_count": 6,
   "metadata": {
    "collapsed": false
   },
   "outputs": [
    {
     "name": "stdout",
     "output_type": "stream",
     "text": [
      "End of epoch 01: err(train)=1.40 acc(train)=0.51 epoch time=173.29\n",
      "                 err(valid)=1.18 acc(valid)=0.59\n",
      "End of epoch 02: err(train)=1.03 acc(train)=0.64 epoch time=164.30\n",
      "                 err(valid)=1.01 acc(valid)=0.65\n",
      "End of epoch 03: err(train)=0.87 acc(train)=0.70 epoch time=167.91\n",
      "                 err(valid)=0.93 acc(valid)=0.68\n",
      "End of epoch 04: err(train)=0.77 acc(train)=0.74 epoch time=165.27\n",
      "                 err(valid)=0.90 acc(valid)=0.69\n",
      "End of epoch 05: err(train)=0.68 acc(train)=0.77 epoch time=162.70\n",
      "                 err(valid)=0.85 acc(valid)=0.71\n",
      "End of epoch 06: err(train)=0.61 acc(train)=0.79 epoch time=161.34\n",
      "                 err(valid)=0.82 acc(valid)=0.72\n",
      "End of epoch 07: err(train)=0.55 acc(train)=0.82 epoch time=162.27\n",
      "                 err(valid)=0.82 acc(valid)=0.71\n",
      "End of epoch 08: err(train)=0.50 acc(train)=0.84 epoch time=161.31\n",
      "                 err(valid)=0.80 acc(valid)=0.73\n",
      "End of epoch 09: err(train)=0.45 acc(train)=0.86 epoch time=161.67\n",
      "                 err(valid)=0.79 acc(valid)=0.73\n",
      "End of epoch 10: err(train)=0.40 acc(train)=0.88 epoch time=160.89\n",
      "                 err(valid)=0.78 acc(valid)=0.73\n",
      "End of epoch 11: err(train)=0.36 acc(train)=0.89 epoch time=160.68\n",
      "                 err(valid)=0.78 acc(valid)=0.74\n",
      "End of epoch 12: err(train)=0.32 acc(train)=0.91 epoch time=160.88\n",
      "                 err(valid)=0.78 acc(valid)=0.74\n",
      "End of epoch 13: err(train)=0.29 acc(train)=0.92 epoch time=161.54\n",
      "                 err(valid)=0.76 acc(valid)=0.75\n",
      "End of epoch 14: err(train)=0.26 acc(train)=0.93 epoch time=163.50\n",
      "                 err(valid)=0.77 acc(valid)=0.74\n",
      "End of epoch 15: err(train)=0.23 acc(train)=0.94 epoch time=162.77\n",
      "                 err(valid)=0.77 acc(valid)=0.75\n",
      "End of epoch 16: err(train)=0.21 acc(train)=0.95 epoch time=161.41\n",
      "                 err(valid)=0.78 acc(valid)=0.74\n",
      "End of epoch 17: err(train)=0.18 acc(train)=0.96 epoch time=174.89\n",
      "                 err(valid)=0.79 acc(valid)=0.75\n",
      "End of epoch 18: err(train)=0.17 acc(train)=0.97 epoch time=171.03\n",
      "                 err(valid)=0.78 acc(valid)=0.75\n",
      "End of epoch 19: err(train)=0.15 acc(train)=0.97 epoch time=308.78\n",
      "                 err(valid)=0.78 acc(valid)=0.75\n"
     ]
    },
    {
     "ename": "KeyboardInterrupt",
     "evalue": "",
     "output_type": "error",
     "traceback": [
      "\u001b[0;31m---------------------------------------------------------------------------\u001b[0m",
      "\u001b[0;31mKeyboardInterrupt\u001b[0m                         Traceback (most recent call last)",
      "\u001b[0;32m<ipython-input-6-964a0cf38f9d>\u001b[0m in \u001b[0;36m<module>\u001b[0;34m()\u001b[0m\n\u001b[1;32m     17\u001b[0m             _, batch_error, batch_acc = sess.run(\n\u001b[1;32m     18\u001b[0m                 \u001b[0;34m[\u001b[0m\u001b[0mtrain_step\u001b[0m\u001b[0;34m,\u001b[0m \u001b[0merror\u001b[0m\u001b[0;34m,\u001b[0m \u001b[0maccuracy\u001b[0m\u001b[0;34m]\u001b[0m\u001b[0;34m,\u001b[0m\u001b[0;34m\u001b[0m\u001b[0m\n\u001b[0;32m---> 19\u001b[0;31m                 feed_dict={inputs: input_batch, targets: target_batch, keep_prob:0.8, train: True})\n\u001b[0m\u001b[1;32m     20\u001b[0m             \u001b[0mrunning_error\u001b[0m \u001b[0;34m+=\u001b[0m \u001b[0mbatch_error\u001b[0m\u001b[0;34m\u001b[0m\u001b[0m\n\u001b[1;32m     21\u001b[0m             \u001b[0mrunning_accuracy\u001b[0m \u001b[0;34m+=\u001b[0m \u001b[0mbatch_acc\u001b[0m\u001b[0;34m\u001b[0m\u001b[0m\n",
      "\u001b[0;32m/afs/inf.ed.ac.uk/user/s16/s1627522/miniconda2/envs/mlp/lib/python2.7/site-packages/tensorflow/python/client/session.pyc\u001b[0m in \u001b[0;36mrun\u001b[0;34m(self, fetches, feed_dict, options, run_metadata)\u001b[0m\n\u001b[1;32m    764\u001b[0m     \u001b[0;32mtry\u001b[0m\u001b[0;34m:\u001b[0m\u001b[0;34m\u001b[0m\u001b[0m\n\u001b[1;32m    765\u001b[0m       result = self._run(None, fetches, feed_dict, options_ptr,\n\u001b[0;32m--> 766\u001b[0;31m                          run_metadata_ptr)\n\u001b[0m\u001b[1;32m    767\u001b[0m       \u001b[0;32mif\u001b[0m \u001b[0mrun_metadata\u001b[0m\u001b[0;34m:\u001b[0m\u001b[0;34m\u001b[0m\u001b[0m\n\u001b[1;32m    768\u001b[0m         \u001b[0mproto_data\u001b[0m \u001b[0;34m=\u001b[0m \u001b[0mtf_session\u001b[0m\u001b[0;34m.\u001b[0m\u001b[0mTF_GetBuffer\u001b[0m\u001b[0;34m(\u001b[0m\u001b[0mrun_metadata_ptr\u001b[0m\u001b[0;34m)\u001b[0m\u001b[0;34m\u001b[0m\u001b[0m\n",
      "\u001b[0;32m/afs/inf.ed.ac.uk/user/s16/s1627522/miniconda2/envs/mlp/lib/python2.7/site-packages/tensorflow/python/client/session.pyc\u001b[0m in \u001b[0;36m_run\u001b[0;34m(self, handle, fetches, feed_dict, options, run_metadata)\u001b[0m\n\u001b[1;32m    962\u001b[0m     \u001b[0;32mif\u001b[0m \u001b[0mfinal_fetches\u001b[0m \u001b[0;32mor\u001b[0m \u001b[0mfinal_targets\u001b[0m\u001b[0;34m:\u001b[0m\u001b[0;34m\u001b[0m\u001b[0m\n\u001b[1;32m    963\u001b[0m       results = self._do_run(handle, final_targets, final_fetches,\n\u001b[0;32m--> 964\u001b[0;31m                              feed_dict_string, options, run_metadata)\n\u001b[0m\u001b[1;32m    965\u001b[0m     \u001b[0;32melse\u001b[0m\u001b[0;34m:\u001b[0m\u001b[0;34m\u001b[0m\u001b[0m\n\u001b[1;32m    966\u001b[0m       \u001b[0mresults\u001b[0m \u001b[0;34m=\u001b[0m \u001b[0;34m[\u001b[0m\u001b[0;34m]\u001b[0m\u001b[0;34m\u001b[0m\u001b[0m\n",
      "\u001b[0;32m/afs/inf.ed.ac.uk/user/s16/s1627522/miniconda2/envs/mlp/lib/python2.7/site-packages/tensorflow/python/client/session.pyc\u001b[0m in \u001b[0;36m_do_run\u001b[0;34m(self, handle, target_list, fetch_list, feed_dict, options, run_metadata)\u001b[0m\n\u001b[1;32m   1012\u001b[0m     \u001b[0;32mif\u001b[0m \u001b[0mhandle\u001b[0m \u001b[0;32mis\u001b[0m \u001b[0mNone\u001b[0m\u001b[0;34m:\u001b[0m\u001b[0;34m\u001b[0m\u001b[0m\n\u001b[1;32m   1013\u001b[0m       return self._do_call(_run_fn, self._session, feed_dict, fetch_list,\n\u001b[0;32m-> 1014\u001b[0;31m                            target_list, options, run_metadata)\n\u001b[0m\u001b[1;32m   1015\u001b[0m     \u001b[0;32melse\u001b[0m\u001b[0;34m:\u001b[0m\u001b[0;34m\u001b[0m\u001b[0m\n\u001b[1;32m   1016\u001b[0m       return self._do_call(_prun_fn, self._session, handle, feed_dict,\n",
      "\u001b[0;32m/afs/inf.ed.ac.uk/user/s16/s1627522/miniconda2/envs/mlp/lib/python2.7/site-packages/tensorflow/python/client/session.pyc\u001b[0m in \u001b[0;36m_do_call\u001b[0;34m(self, fn, *args)\u001b[0m\n\u001b[1;32m   1019\u001b[0m   \u001b[0;32mdef\u001b[0m \u001b[0m_do_call\u001b[0m\u001b[0;34m(\u001b[0m\u001b[0mself\u001b[0m\u001b[0;34m,\u001b[0m \u001b[0mfn\u001b[0m\u001b[0;34m,\u001b[0m \u001b[0;34m*\u001b[0m\u001b[0margs\u001b[0m\u001b[0;34m)\u001b[0m\u001b[0;34m:\u001b[0m\u001b[0;34m\u001b[0m\u001b[0m\n\u001b[1;32m   1020\u001b[0m     \u001b[0;32mtry\u001b[0m\u001b[0;34m:\u001b[0m\u001b[0;34m\u001b[0m\u001b[0m\n\u001b[0;32m-> 1021\u001b[0;31m       \u001b[0;32mreturn\u001b[0m \u001b[0mfn\u001b[0m\u001b[0;34m(\u001b[0m\u001b[0;34m*\u001b[0m\u001b[0margs\u001b[0m\u001b[0;34m)\u001b[0m\u001b[0;34m\u001b[0m\u001b[0m\n\u001b[0m\u001b[1;32m   1022\u001b[0m     \u001b[0;32mexcept\u001b[0m \u001b[0merrors\u001b[0m\u001b[0;34m.\u001b[0m\u001b[0mOpError\u001b[0m \u001b[0;32mas\u001b[0m \u001b[0me\u001b[0m\u001b[0;34m:\u001b[0m\u001b[0;34m\u001b[0m\u001b[0m\n\u001b[1;32m   1023\u001b[0m       \u001b[0mmessage\u001b[0m \u001b[0;34m=\u001b[0m \u001b[0mcompat\u001b[0m\u001b[0;34m.\u001b[0m\u001b[0mas_text\u001b[0m\u001b[0;34m(\u001b[0m\u001b[0me\u001b[0m\u001b[0;34m.\u001b[0m\u001b[0mmessage\u001b[0m\u001b[0;34m)\u001b[0m\u001b[0;34m\u001b[0m\u001b[0m\n",
      "\u001b[0;32m/afs/inf.ed.ac.uk/user/s16/s1627522/miniconda2/envs/mlp/lib/python2.7/site-packages/tensorflow/python/client/session.pyc\u001b[0m in \u001b[0;36m_run_fn\u001b[0;34m(session, feed_dict, fetch_list, target_list, options, run_metadata)\u001b[0m\n\u001b[1;32m   1001\u001b[0m         return tf_session.TF_Run(session, options,\n\u001b[1;32m   1002\u001b[0m                                  \u001b[0mfeed_dict\u001b[0m\u001b[0;34m,\u001b[0m \u001b[0mfetch_list\u001b[0m\u001b[0;34m,\u001b[0m \u001b[0mtarget_list\u001b[0m\u001b[0;34m,\u001b[0m\u001b[0;34m\u001b[0m\u001b[0m\n\u001b[0;32m-> 1003\u001b[0;31m                                  status, run_metadata)\n\u001b[0m\u001b[1;32m   1004\u001b[0m \u001b[0;34m\u001b[0m\u001b[0m\n\u001b[1;32m   1005\u001b[0m     \u001b[0;32mdef\u001b[0m \u001b[0m_prun_fn\u001b[0m\u001b[0;34m(\u001b[0m\u001b[0msession\u001b[0m\u001b[0;34m,\u001b[0m \u001b[0mhandle\u001b[0m\u001b[0;34m,\u001b[0m \u001b[0mfeed_dict\u001b[0m\u001b[0;34m,\u001b[0m \u001b[0mfetch_list\u001b[0m\u001b[0;34m)\u001b[0m\u001b[0;34m:\u001b[0m\u001b[0;34m\u001b[0m\u001b[0m\n",
      "\u001b[0;31mKeyboardInterrupt\u001b[0m: "
     ]
    }
   ],
   "source": [
    "init = tf.global_variables_initializer()\n",
    "\n",
    "train_data.reset()\n",
    "valid_data.reset()\n",
    "running_error_one = []\n",
    "running_accuracy_one = []\n",
    "valid_error_one = []\n",
    "valid_accuracy_one = []\n",
    "\n",
    "with tf.Session() as sess:\n",
    "    sess.run(init)\n",
    "    for e in range(50):\n",
    "        running_error = 0.\n",
    "        running_accuracy = 0.\n",
    "        start_time = time.time()\n",
    "        for input_batch, target_batch in train_data:\n",
    "            _, batch_error, batch_acc = sess.run(\n",
    "                [train_step, error, accuracy], \n",
    "                feed_dict={inputs: input_batch, targets: target_batch, keep_prob:0.8, train: True})\n",
    "            running_error += batch_error\n",
    "            running_accuracy += batch_acc\n",
    "        epoch_time = time.time() - start_time\n",
    "        running_error /= train_data.num_batches\n",
    "        running_accuracy /= train_data.num_batches\n",
    "        \n",
    "        running_error_one.append(running_error)\n",
    "        running_accuracy_one.append(running_accuracy)\n",
    "        \n",
    "        print('End of epoch {0:02d}: err(train)={1:.2f} acc(train)={2:.2f} epoch time={3:.2f}'\n",
    "              .format(e + 1, running_error, running_accuracy, epoch_time))\n",
    "        \n",
    "        valid_error = 0.\n",
    "        valid_accuracy = 0.\n",
    "        for input_batch, target_batch in valid_data:\n",
    "            batch_error, batch_acc = sess.run(\n",
    "                [error, accuracy], \n",
    "                feed_dict={inputs: input_batch, targets: target_batch, keep_prob:1.0, train: False})\n",
    "            valid_error += batch_error\n",
    "            valid_accuracy += batch_acc\n",
    "        valid_error /= valid_data.num_batches\n",
    "        valid_accuracy /= valid_data.num_batches\n",
    "            \n",
    "        valid_error_one.append(valid_error)\n",
    "        valid_accuracy_one.append(valid_accuracy)\n",
    "            \n",
    "        print('                 err(valid)={0:.2f} acc(valid)={1:.2f}'\n",
    "                .format(valid_error, valid_accuracy))\n"
   ]
  },
  {
   "cell_type": "code",
   "execution_count": null,
   "metadata": {
    "collapsed": true
   },
   "outputs": [],
   "source": []
  }
 ],
 "metadata": {
  "anaconda-cloud": {},
  "kernelspec": {
   "display_name": "Python [conda env:mlp]",
   "language": "python",
   "name": "conda-env-mlp-py"
  },
  "language_info": {
   "codemirror_mode": {
    "name": "ipython",
    "version": 2
   },
   "file_extension": ".py",
   "mimetype": "text/x-python",
   "name": "python",
   "nbconvert_exporter": "python",
   "pygments_lexer": "ipython2",
   "version": "2.7.12"
  }
 },
 "nbformat": 4,
 "nbformat_minor": 1
}
