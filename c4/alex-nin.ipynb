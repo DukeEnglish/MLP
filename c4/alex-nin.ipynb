{
 "cells": [
  {
   "cell_type": "code",
   "execution_count": 1,
   "metadata": {
    "collapsed": true
   },
   "outputs": [],
   "source": [
    "\n",
    "import os\n",
    "import datetime\n",
    "import numpy as np\n",
    "import tensorflow as tf\n",
    "from mlp.data_providers import CIFAR10DataProvider, CIFAR100DataProvider\n",
    "import matplotlib.pyplot as plt\n",
    "import time\n"
   ]
  },
  {
   "cell_type": "code",
   "execution_count": 2,
   "metadata": {
    "collapsed": false
   },
   "outputs": [],
   "source": [
    "def fully_connected_layer(inputs, input_dim, output_dim, nonlinearity=tf.nn.relu, dropout = True, keep_prob=1.0):\n",
    "    with tf.device('/cpu:0'):\n",
    "        weights = tf.Variable(\n",
    "            tf.truncated_normal(\n",
    "                [input_dim, output_dim], stddev=2. / (input_dim + output_dim)**0.5), \n",
    "            'weights')\n",
    "        biases = tf.Variable(tf.zeros([output_dim]), 'biases')\n",
    "    outputs = tf.nn.dropout(nonlinearity(tf.matmul(inputs, weights) + biases), keep_prob)\n",
    "    return outputs\n",
    "\n",
    "def fully_bn_connected_layer(inputs, input_dim, output_dim, nonlinearity=tf.nn.relu, dropout = True, keep_prob=1.0, train=True):\n",
    "    with tf.device('/cpu:0'):\n",
    "        weights = tf.Variable(\n",
    "            tf.truncated_normal(\n",
    "                [input_dim, output_dim], stddev=2. / (input_dim + output_dim)**0.5), \n",
    "            'weights')\n",
    "        z_BN = tf.matmul(inputs,weights)\n",
    "        BN = tf.contrib.layers.batch_norm(z_BN, center=True, scale=True,\n",
    "                                                 is_training=train)\n",
    "    outputs = tf.nn.dropout(nonlinearity(BN), keep_prob)\n",
    "    return outputs\n",
    "\n",
    "def _variable_with_weight_decay(name, shape, stddev, wd):\n",
    "    var = tf.get_variable(name, shape, initializer=tf.truncated_normal_initializer(stddev=stddev, dtype=tf.float32),dtype=tf.float32)\n",
    "    if wd is not None:\n",
    "        weight_decay = tf.multiply(tf.nn.l2_loss(var), wd, name='weight_loss')\n",
    "        tf.add_to_collection('losses', weight_decay)\n",
    "    return var"
   ]
  },
  {
   "cell_type": "code",
   "execution_count": 3,
   "metadata": {
    "collapsed": true
   },
   "outputs": [],
   "source": [
    "   \n",
    "def conv_bn_layer1(inputs, input_dim, output_dim, nonlinearity=tf.nn.relu, dropout = True, keep_prob=1.0,train=True):\n",
    "    kernel = _variable_with_weight_decay('weights1',\n",
    "                                         shape=[5, 5, 3, 64],\n",
    "                                         stddev=5e-2,\n",
    "                                         wd=0.0001)\n",
    "    reshape = tf.reshape(inputs, [50,32,32,3])\n",
    "    conv = tf.nn.conv2d(reshape, kernel, [1, 1, 1, 1], padding='SAME')\n",
    "    BN2 = tf.contrib.layers.batch_norm(conv, center=True, scale=True,\n",
    "                                                 is_training=train)\n",
    "    outputs = tf.nn.dropout(nonlinearity(BN), keep_prob)\n",
    "    return outputs\n",
    "\n",
    "def conv_bn_layer2(inputs, input_dim, output_dim, nonlinearity=tf.nn.relu, dropout = True, keep_prob=1.0,train=True):\n",
    "    kernel = _variable_with_weight_decay('weights1',\n",
    "                                         shape=[5, 5, 3, 64],\n",
    "                                         stddev=5e-2,\n",
    "                                         wd=0.0001)\n",
    "    reshape = tf.reshape(inputs, [50,32,32,3])\n",
    "    conv = tf.nn.conv2d(reshape, kernel, [1, 1, 1, 1], padding='SAME')\n",
    "    BN2 = tf.contrib.layers.batch_norm(conv, center=True, scale=True,\n",
    "                                                 is_training=train)\n",
    "    outputs = tf.nn.dropout(nonlinearity(BN), keep_prob)\n",
    "    return outputs"
   ]
  },
  {
   "cell_type": "code",
   "execution_count": 4,
   "metadata": {
    "collapsed": true
   },
   "outputs": [],
   "source": [
    "random_seed = 1627522\n",
    "rng = np.random.RandomState(random_seed)\n",
    "\n",
    "train_data = CIFAR10DataProvider('train', batch_size=50, rng=rng)\n",
    "valid_data = CIFAR10DataProvider('valid', batch_size=50, rng=rng)"
   ]
  },
  {
   "cell_type": "code",
   "execution_count": null,
   "metadata": {
    "collapsed": false
   },
   "outputs": [],
   "source": [
    "inputs = tf.placeholder(tf.float32, [None, train_data.inputs.shape[1]], 'inputs')\n",
    "targets = tf.placeholder(tf.float32, [None, train_data.num_classes], 'targets')\n",
    "keep_prob=tf.placeholder(tf.float32)\n",
    "train=tf.placeholder(bool)\n",
    "\n",
    "with tf.variable_scope('conv1') as scope:\n",
    "    inputs_new=tf.reshape(inputs,[50,3,32,32])\n",
    "    inputs_new=tf.transpose(inputs_new,[0,2,3,1])\n",
    "    kernel1 = _variable_with_weight_decay('conv_weights_1', shape=[3, 3, 3, 64], stddev=5e-2, wd=0.0)\n",
    "    conv = tf.nn.conv2d(inputs_new, kernel1, [1, 1, 1, 1], padding='SAME')\n",
    "    biases1 = tf.get_variable('biases2', [64], initializer=tf.constant_initializer(0.0), dtype=tf.float32)\n",
    "    pre_activation1 = tf.nn.bias_add(conv, biases1)\n",
    "    conv1 = tf.nn.relu(pre_activation1, name=scope.name)\n",
    "\n",
    "# pool1\n",
    "pool1 = tf.nn.max_pool(conv1, ksize=[1, 3, 3, 1], strides=[1, 2, 2, 1],\n",
    "                         padding='SAME', name='pool1')\n",
    "# norm1\n",
    "norm1 = tf.nn.lrn(pool1, 4, bias=1.0, alpha=0.001 / 9.0, beta=0.75,\n",
    "                    name='norm1')\n",
    "\n",
    "# conv2\n",
    "with tf.variable_scope('conv2') as scope:\n",
    "    kernel2 = _variable_with_weight_decay('conv_weights_2', shape=[3, 3, 64, 64], stddev=5e-2, wd=0.0)\n",
    "    conv_2 = tf.nn.conv2d(norm1, kernel2, [1, 1, 1, 1], padding='SAME')\n",
    "    biases2 = tf.get_variable('biases2', [64], initializer=tf.constant_initializer(0.1), dtype=tf.float32)\n",
    "    pre_activation2 = tf.nn.bias_add(conv_2, biases2)\n",
    "    conv2 = tf.nn.relu(pre_activation2, name=scope.name)\n",
    "    #_activation_summary(conv2)\n",
    "\n",
    "# norm2\n",
    "norm2 = tf.nn.lrn(conv2, 4, bias=1.0, alpha=0.001 / 9.0, beta=0.75,\n",
    "                    name='norm2')\n",
    "# pool2\n",
    "pool2 = tf.nn.max_pool(norm2, ksize=[1, 3, 3, 1],\n",
    "                         strides=[1, 2, 2, 1], padding='SAME', name='pool2')\n",
    "\n",
    "# local3\n",
    "with tf.variable_scope('local3') as scope:\n",
    "    hidden_1=tf.nn.avg_pool(norm2, ksize=[1, 16, 16, 1],\n",
    "                         strides=[1, 1, 1, 1], padding='VALID', name='pool3')\n",
    "    # Move everything into depth so we can perform a single matrix multiply.\n",
    "    \n",
    "    #hidden_1 = fully_connected_layer(reshape, 4096, 1000, keep_prob=1.0)\n",
    "\n",
    "# local4\n",
    "with tf.variable_scope('local4') as scope:\n",
    "    reshape = tf.reshape(hidden_1, [50,-1])\n",
    "    outputs=fully_connected_layer(reshape, 64, train_data.num_classes, tf.identity, keep_prob=1.0)\n",
    "    \n",
    "with tf.name_scope('error'):\n",
    "    error = tf.reduce_mean(\n",
    "        tf.nn.softmax_cross_entropy_with_logits(outputs, targets))\n",
    "with tf.name_scope('accuracy'):\n",
    "    accuracy = tf.reduce_mean(tf.cast(\n",
    "            tf.equal(tf.argmax(outputs, 1), tf.argmax(targets, 1)), \n",
    "            tf.float32))\n",
    "\n",
    "with tf.name_scope('train'):\n",
    "    train_step = tf.train.MomentumOptimizer(learning_rate=0.001,momentum=0.9).minimize(error)\n",
    "    "
   ]
  },
  {
   "cell_type": "code",
   "execution_count": null,
   "metadata": {
    "collapsed": false
   },
   "outputs": [],
   "source": [
    "init = tf.global_variables_initializer()\n",
    "\n",
    "\n",
    "train_data.reset()\n",
    "valid_data.reset()\n",
    "running_error_one = []\n",
    "running_accuracy_one = []\n",
    "valid_error_one = []\n",
    "valid_accuracy_one = []\n",
    "\n",
    "with tf.Session() as sess:\n",
    "    sess.run(init)\n",
    "    for e in range(50):\n",
    "        running_error = 0.\n",
    "        running_accuracy = 0.\n",
    "        start_time = time.time()\n",
    "        for input_batch, target_batch in train_data:\n",
    "            _, batch_error, batch_acc = sess.run(\n",
    "                [train_step, error, accuracy], \n",
    "                feed_dict={inputs: input_batch, targets: target_batch, keep_prob:1.0, train: True})\n",
    "            running_error += batch_error\n",
    "            running_accuracy += batch_acc\n",
    "        epoch_time = time.time() - start_time\n",
    "        running_error /= train_data.num_batches\n",
    "        running_accuracy /= train_data.num_batches\n",
    "        \n",
    "        running_error_one.append(running_error)\n",
    "        running_accuracy_one.append(running_accuracy)\n",
    "        \n",
    "        print('End of epoch {0:02d}: err(train)={1:.2f} acc(train)={2:.2f} epoch time={3:.2f}'\n",
    "              .format(e + 1, running_error, running_accuracy, epoch_time))\n",
    "        \n",
    "        valid_error = 0.\n",
    "        valid_accuracy = 0.\n",
    "        for input_batch, target_batch in valid_data:\n",
    "            batch_error, batch_acc = sess.run(\n",
    "                [error, accuracy], \n",
    "                feed_dict={inputs: input_batch, targets: target_batch, keep_prob:1.0, train: False})\n",
    "            valid_error += batch_error\n",
    "            valid_accuracy += batch_acc\n",
    "        valid_error /= valid_data.num_batches\n",
    "        valid_accuracy /= valid_data.num_batches\n",
    "            \n",
    "        valid_error_one.append(valid_error)\n",
    "        valid_accuracy_one.append(valid_accuracy)\n",
    "            \n",
    "        print('                 err(valid)={0:.2f} acc(valid)={1:.2f}'\n",
    "                .format(valid_error, valid_accuracy))\n"
   ]
  },
  {
   "cell_type": "code",
   "execution_count": null,
   "metadata": {
    "collapsed": true
   },
   "outputs": [],
   "source": []
  }
 ],
 "metadata": {
  "anaconda-cloud": {},
  "kernelspec": {
   "display_name": "Python [conda env:mlp]",
   "language": "python",
   "name": "conda-env-mlp-py"
  },
  "language_info": {
   "codemirror_mode": {
    "name": "ipython",
    "version": 2
   },
   "file_extension": ".py",
   "mimetype": "text/x-python",
   "name": "python",
   "nbconvert_exporter": "python",
   "pygments_lexer": "ipython2",
   "version": "2.7.12"
  }
 },
 "nbformat": 4,
 "nbformat_minor": 1
}
